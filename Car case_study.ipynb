{
 "cells": [
  {
   "cell_type": "code",
   "execution_count": null,
   "id": "7b4e35b8-2bc7-443b-baa1-223ac7afd72d",
   "metadata": {},
   "outputs": [],
   "source": [
    "import pandas  as pd \n",
    "dataset = pd.read_excel(\"Car Inventory.xlsx\")  "
   ]
  },
  {
   "cell_type": "code",
   "execution_count": null,
   "id": "843fbecd-4945-4f4b-b48c-43010457803c",
   "metadata": {},
   "outputs": [],
   "source": [
    "dataset"
   ]
  },
  {
   "cell_type": "code",
   "execution_count": null,
   "id": "71e7cd51-3c42-4a01-a607-cfb29eaa9a76",
   "metadata": {},
   "outputs": [],
   "source": [
    "#1. Import Libraries & Load Dataset\n",
    "import pandas as pd\n",
    "import numpy as np\n",
    "import matplotlib.pyplot as plt\n",
    "import seaborn as sns\n",
    "\n",
    "# Load the dataset\n",
    "df = pd.read_excel('Car Inventory.xlsx')  # Ensure the Excel file is in the same folder or provide full path\n",
    "\n",
    "# Display first few rows\n",
    "df.head()"
   ]
  },
  {
   "cell_type": "code",
   "execution_count": null,
   "id": "df94dd3a-e822-45f8-8c41-7cc347da10be",
   "metadata": {},
   "outputs": [],
   "source": [
    "# 2. Clean and Preprocess the Dataset\n",
    "# Check for missing values\n",
    "print(df.isnull().sum())\n",
    "\n",
    "# Remove duplicates if any\n",
    "df = df.drop_duplicates()\n",
    "\n",
    "# Remove unwanted characters from numeric columns and convert to numbers\n",
    "df['Price'] = df['Price'].replace('[\\$,]', '', regex=True).astype(float)\n",
    "df['Cost'] = df['Cost'].replace('[\\$,]', '', regex=True).astype(float)\n",
    "df['Mileage'] = df['Mileage'].replace('[,]', '', regex=True).astype(int)\n",
    "\n",
    "# Verify data types\n",
    "print(df.dtypes)"
   ]
  },
  {
   "cell_type": "code",
   "execution_count": null,
   "id": "781f6b82-7aa2-40c1-a232-51128730fd52",
   "metadata": {},
   "outputs": [],
   "source": [
    "#3. Analyze the Distribution of Car Prices\n",
    "\n",
    "# Summary statistics\n",
    "print(df['Price'].describe())\n",
    "\n",
    "# Histogram for price distribution\n",
    "plt.figure(figsize=(8, 5))\n",
    "sns.histplot(df['Price'], kde=True, color='skyblue')\n",
    "plt.title('Distribution of Car Prices')\n",
    "plt.xlabel('Price ($)')\n",
    "plt.ylabel('Count')\n",
    "plt.grid(True)\n",
    "plt.show()"
   ]
  },
  {
   "cell_type": "code",
   "execution_count": null,
   "id": "b5f412c6-5358-4cbf-9606-2f6787b2f22b",
   "metadata": {},
   "outputs": [],
   "source": [
    "#4. Examine How Mileage Influences Price\n",
    "\n",
    "# Scatter plot of Mileage vs Price\n",
    "plt.figure(figsize=(8, 5))\n",
    "sns.scatterplot(data=df, x='Mileage', y='Price', hue='Make', palette='tab10')\n",
    "plt.title('Mileage vs Price')\n",
    "plt.xlabel('Mileage')\n",
    "plt.ylabel('Price ($)')\n",
    "plt.grid(True)\n",
    "plt.show()"
   ]
  },
  {
   "cell_type": "code",
   "execution_count": null,
   "id": "b8180baf-13aa-45b2-8fdb-fdbc337982c8",
   "metadata": {},
   "outputs": [],
   "source": [
    "#5. Visualize the Number of Cars by Brand and Color\n",
    "\n",
    "# Count of cars by Make\n",
    "plt.figure(figsize=(8, 5))\n",
    "sns.countplot(data=df, x='Make', order=df['Make'].value_counts().index, palette='pastel')\n",
    "plt.title('Number of Cars by Brand')\n",
    "plt.xlabel('Car Make')\n",
    "plt.ylabel('Count')\n",
    "plt.xticks(rotation=45)\n",
    "plt.show()\n",
    "\n",
    "# Count of cars by Color\n",
    "plt.figure(figsize=(8, 5))\n",
    "sns.countplot(data=df, x='Color', order=df['Color'].value_counts().index, palette='Set2')\n",
    "plt.title('Number of Cars by Color')\n",
    "plt.xlabel('Color')\n",
    "plt.ylabel('Count')\n",
    "plt.xticks(rotation=45)\n",
    "plt.show()"
   ]
  },
  {
   "cell_type": "code",
   "execution_count": null,
   "id": "7a8312b5-02bd-42a7-86c6-543403bccf7a",
   "metadata": {},
   "outputs": [],
   "source": [
    "#6. Identify Important Insights for Pricing and Inventory \n",
    " \n",
    "# Add a new column for Profit \n",
    "df['Profit'] = df['Price'] - df['Cost'] \n",
    " \n",
    "# Average profit by car brand \n",
    "avg_profit_by_make = df.groupby('Make')['Profit'].mean().sort_values(ascending=False) \n",
    "print(\"Average profit by Make:\\n\", avg_profit_by_make) \n",
    " \n",
    "# Plot average profit by Make \n",
    "plt.figure(figsize=(8, 5)) \n",
    "avg_profit_by_make.plot(kind='bar', color='salmon') \n",
    "plt.title('Average Profit by Make') \n",
    "plt.xlabel('Make') \n",
    "plt.ylabel('Average Profit ($)') \n",
    "plt.grid(True) \n",
    "plt.show() "
   ]
  },
  {
   "cell_type": "code",
   "execution_count": null,
   "id": "2efb5410-3cfd-4040-ac34-53fb6fb99b71",
   "metadata": {},
   "outputs": [],
   "source": [
    "#Export Cleaned Dataset (Optional) \n",
    " \n",
    "# Save the cleaned dataset \n",
    "df.to_csv('Cleaned_Car_Inventory.csv', index=False) \n"
   ]
  }
 ],
 "metadata": {
  "kernelspec": {
   "display_name": "Python 3 (ipykernel)",
   "language": "python",
   "name": "python3"
  },
  "language_info": {
   "codemirror_mode": {
    "name": "ipython",
    "version": 3
   },
   "file_extension": ".py",
   "mimetype": "text/x-python",
   "name": "python",
   "nbconvert_exporter": "python",
   "pygments_lexer": "ipython3",
   "version": "3.8.20"
  }
 },
 "nbformat": 4,
 "nbformat_minor": 5
}
